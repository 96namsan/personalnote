{
 "cells": [
  {
   "cell_type": "code",
   "execution_count": 17,
   "id": "0d8f8178",
   "metadata": {},
   "outputs": [
    {
     "ename": "ValueError",
     "evalue": "not enough values to unpack (expected 2, got 0)",
     "output_type": "error",
     "traceback": [
      "\u001b[1;31m---------------------------------------------------------------------------\u001b[0m",
      "\u001b[1;31mValueError\u001b[0m                                Traceback (most recent call last)",
      "Input \u001b[1;32mIn [17]\u001b[0m, in \u001b[0;36m<cell line: 1>\u001b[1;34m()\u001b[0m\n\u001b[1;32m----> 1\u001b[0m numberlen,target \u001b[38;5;241m=\u001b[39m \u001b[38;5;28mmap\u001b[39m(\u001b[38;5;28mint\u001b[39m,sys\u001b[38;5;241m.\u001b[39mstdin\u001b[38;5;241m.\u001b[39mreadline()\u001b[38;5;241m.\u001b[39msplit())\n\u001b[0;32m      2\u001b[0m numberlist\u001b[38;5;241m=\u001b[39m\u001b[38;5;28mlist\u001b[39m(\u001b[38;5;28mmap\u001b[39m(\u001b[38;5;28mint\u001b[39m,(\u001b[38;5;28minput\u001b[39m()\u001b[38;5;241m.\u001b[39msplit())))\n\u001b[0;32m      3\u001b[0m numberlen\u001b[38;5;241m=\u001b[39m\u001b[38;5;28mint\u001b[39m(numberlen)\n",
      "\u001b[1;31mValueError\u001b[0m: not enough values to unpack (expected 2, got 0)"
     ]
    }
   ],
   "source": [
    "numberlen,target = map(int,sys.stdin.readline().split())\n",
    "numberlist=list(map(int,(input().split())))\n",
    "numberlen=int(numberlen)\n",
    "target=int(target)\n",
    "total=0\n",
    "for i in range(numberlen):\n",
    "    a=i\n",
    "    sumnumber=0\n",
    "    while sumnumber < target:\n",
    "        sumnumber+=numberlist[a]\n",
    "        if sumnumber==target:\n",
    "            total+=1\n",
    "            break\n",
    "        elif a==numberlen-1:\n",
    "            break\n",
    "        a+=1\n",
    "print(total)"
   ]
  },
  {
   "cell_type": "code",
   "execution_count": null,
   "id": "84a7257e",
   "metadata": {},
   "outputs": [],
   "source": []
  }
 ],
 "metadata": {
  "kernelspec": {
   "display_name": "Python 3 (ipykernel)",
   "language": "python",
   "name": "python3"
  },
  "language_info": {
   "codemirror_mode": {
    "name": "ipython",
    "version": 3
   },
   "file_extension": ".py",
   "mimetype": "text/x-python",
   "name": "python",
   "nbconvert_exporter": "python",
   "pygments_lexer": "ipython3",
   "version": "3.9.13"
  }
 },
 "nbformat": 4,
 "nbformat_minor": 5
}
