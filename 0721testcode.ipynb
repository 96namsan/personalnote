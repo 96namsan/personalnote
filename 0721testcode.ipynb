{
 "cells": [
  {
   "cell_type": "code",
   "execution_count": 7,
   "id": "f0019640",
   "metadata": {},
   "outputs": [
    {
     "name": "stdout",
     "output_type": "stream",
     "text": [
      "10\n",
      "1 2 5 10 "
     ]
    }
   ],
   "source": [
    "N=int(input())\n",
    "n1=[]\n",
    "for i in range(1,N+1):\n",
    "    if (N)%i==0 :\n",
    "        print(i,end=' ')"
   ]
  },
  {
   "cell_type": "code",
   "execution_count": 11,
   "id": "22070451",
   "metadata": {},
   "outputs": [
    {
     "data": {
      "text/plain": [
       "15"
      ]
     },
     "execution_count": 11,
     "metadata": {},
     "output_type": "execute_result"
    }
   ],
   "source": [
    "def list_sum(args) :\n",
    "    total=0\n",
    "    for a in args :\n",
    "        total+=a\n",
    "    return total\n",
    "list_sum([1,2,3,4,5])"
   ]
  },
  {
   "cell_type": "code",
   "execution_count": 44,
   "id": "2983cc0a",
   "metadata": {},
   "outputs": [],
   "source": [
    "def dict_list_sum(total) :\n",
    "    sumall=0\n",
    "    for i in range (len(total)):\n",
    "        sumall+=total[i]['age']\n",
    "    return sumall\n",
    "        \n",
    "    "
   ]
  },
  {
   "cell_type": "code",
   "execution_count": 45,
   "id": "df2045e9",
   "metadata": {},
   "outputs": [],
   "source": [
    "test=[{'name':'kim','age':12},{'name':'lee','age':4}]"
   ]
  },
  {
   "cell_type": "code",
   "execution_count": 46,
   "id": "8e971fa3",
   "metadata": {},
   "outputs": [
    {
     "data": {
      "text/plain": [
       "16"
      ]
     },
     "execution_count": 46,
     "metadata": {},
     "output_type": "execute_result"
    }
   ],
   "source": [
    "dict_list_sum(test)"
   ]
  },
  {
   "cell_type": "code",
   "execution_count": 47,
   "id": "1127f973",
   "metadata": {},
   "outputs": [],
   "source": [
    "def all_list_sum(total):\n",
    "    sumall=0\n",
    "    for a in total:\n",
    "        for b in a:\n",
    "            sumall+=b\n",
    "    return sumall\n",
    "        "
   ]
  },
  {
   "cell_type": "code",
   "execution_count": 48,
   "id": "b4228705",
   "metadata": {},
   "outputs": [
    {
     "data": {
      "text/plain": [
       "55"
      ]
     },
     "execution_count": 48,
     "metadata": {},
     "output_type": "execute_result"
    }
   ],
   "source": [
    "all_list_sum([[1],[2,3],[4,5,6],[7,8,9,10]])"
   ]
  },
  {
   "cell_type": "code",
   "execution_count": 49,
   "id": "022d415a",
   "metadata": {},
   "outputs": [],
   "source": [
    "def get_secret_word(total):\n",
    "    word=''\n",
    "    for i in total :\n",
    "        word+=chr(i)\n",
    "    return word\n"
   ]
  },
  {
   "cell_type": "code",
   "execution_count": 50,
   "id": "7f128bf5",
   "metadata": {},
   "outputs": [
    {
     "data": {
      "text/plain": [
       "'SsAfY'"
      ]
     },
     "execution_count": 50,
     "metadata": {},
     "output_type": "execute_result"
    }
   ],
   "source": [
    "get_secret_word([83,115,65,102,89])"
   ]
  },
  {
   "cell_type": "code",
   "execution_count": 51,
   "id": "7be56619",
   "metadata": {},
   "outputs": [],
   "source": [
    "def get_secret_number(total):\n",
    "    ascnum=0\n",
    "    for i in total:\n",
    "        ascnum+=ord(i)\n",
    "    return ascnum\n"
   ]
  },
  {
   "cell_type": "code",
   "execution_count": 52,
   "id": "28387e85",
   "metadata": {},
   "outputs": [
    {
     "data": {
      "text/plain": [
       "546"
      ]
     },
     "execution_count": 52,
     "metadata": {},
     "output_type": "execute_result"
    }
   ],
   "source": [
    "get_secret_number('happy')"
   ]
  },
  {
   "cell_type": "code",
   "execution_count": null,
   "id": "b3b1dbdc",
   "metadata": {},
   "outputs": [],
   "source": [
    "def get_strong_word(a,b):\n",
    "    aword=0\n",
    "    bword=0\n",
    "    for i in a :\n",
    "        aword+=chr(i)\n",
    "    for i in b :\n",
    "        bword+=chr(i)\n",
    "    if aword>bword :\n",
    "        return a\n",
    "    elif aword==bword :\n",
    "        return a,b\n",
    "    \n",
    "        "
   ]
  }
 ],
 "metadata": {
  "kernelspec": {
   "display_name": "Python 3 (ipykernel)",
   "language": "python",
   "name": "python3"
  },
  "language_info": {
   "codemirror_mode": {
    "name": "ipython",
    "version": 3
   },
   "file_extension": ".py",
   "mimetype": "text/x-python",
   "name": "python",
   "nbconvert_exporter": "python",
   "pygments_lexer": "ipython3",
   "version": "3.9.13"
  }
 },
 "nbformat": 4,
 "nbformat_minor": 5
}
